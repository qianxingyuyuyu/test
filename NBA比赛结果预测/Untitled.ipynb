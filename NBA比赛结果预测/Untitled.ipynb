{
 "cells": [
  {
   "cell_type": "markdown",
   "id": "b176060f",
   "metadata": {
    "tags": []
   },
   "source": [
    "# 机器学习实现NBA比赛预测\n",
    "## 项目介绍\n",
    "本次项目的任务是基于往年的 NBA 的各项比赛统计数据，实现针对2018-2019年每场比赛，预测比赛中哪支队伍最终将会获胜，并和真实值进行比较。\n",
    "## 项目流程分析\n",
    "* 获取数据、分析数据\n",
    "* 构建出每场比赛的特征表达，即训练样本\n",
    "* 建立模型，进行模型训练\n",
    "* 利用模型进行预测"
   ]
  },
  {
   "cell_type": "markdown",
   "id": "d58149d9",
   "metadata": {},
   "source": [
    "## 参考数据集\n",
    "数据来源：https://www.basketball-reference.com/\n",
    "\n",
    "2018-2019Team Per Game Stats.csv：每支队伍在每场比赛中的表现统计。各字段含义如下：\n",
    "![图片](数据含义.jpeg)\n",
    "2018-2019Opponent Per Game Stats.csv：每支队伍在每场比赛中遇到的对手表现统计。各字段含义同上。\n",
    "\n",
    "2018-2019Miscellaneous Stats.csv：每支队伍的综合统计数据。各字段含义如下：\n",
    "![图片](数据含义2.jpeg)\n",
    "\n",
    "2018-2019_result.csv：每场比赛的数据。其中包括三个字段：\n",
    "* WTeam: 比赛胜利队伍\n",
    "* LTeam: 失败队伍\n",
    "* WLoc: 胜利队伍一方所在的为主场或是客场\n",
    "\n",
    "2019-2020_schedule.csv：比赛的安排。其中包括两个字段：\n",
    "* Vteam: 客场作战队伍\n",
    "* Hteam: 主场作战队伍\n"
   ]
  },
  {
   "cell_type": "markdown",
   "id": "b4101a57-7aa3-4087-a70d-088a0419b9ed",
   "metadata": {},
   "source": [
    "## 读取数据"
   ]
  },
  {
   "cell_type": "code",
   "execution_count": 1,
   "id": "9cea2093",
   "metadata": {},
   "outputs": [],
   "source": [
    "import pandas as pd\n",
    "import math\n",
    "import numpy as np\n",
    "import csv\n",
    "import matplotlib.pyplot as plt\n",
    "import random\n",
    "\n",
    "Mstat = pd.read_csv('2018-2019Miscellaneous Stats.csv')\n",
    "Ostat = pd.read_csv('2018-2019Opponent Per Game Stats.csv')\n",
    "Tstat = pd.read_csv('2018-2019Team Per Game Stats.csv')\n",
    "result_data = pd.read_csv('2018-2019_result.csv')"
   ]
  },
  {
   "cell_type": "markdown",
   "id": "a458409b-4490-460b-955c-0d12eb7eb896",
   "metadata": {
    "tags": []
   },
   "source": [
    "## 构建特征向量即训练数据\n",
    "项目的整体目标为针对某一场比赛，根据比赛双方的以往比赛情况判断胜利方，以及可胜概率。为提高预测率，可加入两支队伍各自的Elo等级分（也是由每支队伍以往比赛结果计算得出）作为特征向量的一部分。因此构建的训练样本由两支队伍的以往比赛统计情况（Tstat、Ostat和Mstat表）和两个队伍各自的 Elo 等级分构成。"
   ]
  },
  {
   "cell_type": "code",
   "execution_count": 2,
   "id": "69a63d47-5c93-4a49-afce-41dbc052e64c",
   "metadata": {},
   "outputs": [],
   "source": [
    "#首先处理前三张表的数据，进行数据剪枝和数据合并\n",
    "#丢弃与球队实力无关的统计量\n",
    "new_Mstat = Mstat.drop(['Rk', 'Arena'], axis=1)\n",
    "new_Ostat = Ostat.drop(['Rk', 'G', 'MP'], axis=1)\n",
    "new_Tstat = Tstat.drop(['Rk', 'G', 'MP'], axis=1)\n",
    "# 将三张表中数据通过相同的index：team合并为一个数据\n",
    "team_stats1 = pd.merge(new_Mstat, new_Ostat, how='left', on='Team')\n",
    "team_stats1 = pd.merge(team_stats1, new_Tstat, how='left', on='Team')\n",
    "#将team作为index\n",
    "team_stats =team_stats1.set_index('Team', inplace=False, drop=True)"
   ]
  },
  {
   "cell_type": "markdown",
   "id": "c4231c08-1c0b-470c-8b94-075ffc20d6cb",
   "metadata": {},
   "source": [
    "### 计算每支队伍的elo等级分\n",
    "\n",
    "### elo值介绍\n",
    "\n",
    "Elo等级分最初用于国际象棋，现在很多的竞技运动或者游戏中都会采用该制度对选手或玩家进行等级划分。\n",
    "计算公式如下：\n",
    "假设 A 和 B 的当前等级分为 $R_{A}$ 和 $R_{B}$，则 A 对 B 的胜率期望值为：\n",
    "\n",
    "$E_{A}=\\frac{1}{1+10^{(R_{B}-R_{A})/400}}$\n",
    "\n",
    "B 对 A 的胜率期望值为:\n",
    "\n",
    "$E_{B}=\\frac{1}{1+10^{(R_{A}-R_{B})/400}}$\n",
    "\n",
    "如果棋手 A 在比赛中的真实得分 $S_{A}$​（胜 1 分，和 0.5 分，负 0 分）和他的胜率期望值 $E_{A}$​​不同，则他的等级分要根据以下公式进行调整：\n",
    "\n",
    "$R_{A}^{new}= R_{A}^{old}+K(S_{A}-R_{A}^{old})$\n",
    "\n",
    "根据等级分的不同 K 值也会做相应的调整：\n",
    "* 大于等于2400，K=16\n",
    "* 2100~2400 分，K=24\n",
    "* 小于等于2100，K=32"
   ]
  },
  {
   "cell_type": "code",
   "execution_count": 3,
   "id": "71335454-bf9d-417b-8713-46cc016ae255",
   "metadata": {},
   "outputs": [],
   "source": [
    "base_elo = 1600  # 初始化elo值\n",
    "team_elos = {}\n",
    "def get_elo(team):\n",
    "    try:\n",
    "        return team_elos[team]\n",
    "    except:\n",
    "        # 当最初没有elo时，给每个队伍最初赋base_elo\n",
    "        team_elos[team] = base_elo\n",
    "        return team_elos[team]\n",
    "\n",
    "def calc_elo(win_team, lose_team):\n",
    "    # winteam, loseteam的输入应为字符串\n",
    "    # 给出当前两个队伍的elo分数\n",
    "    winner_rank  = get_elo(win_team)\n",
    "    loser_rank = get_elo(lose_team)\n",
    "    # 计算比赛后的等级分，参考elo计算公式\n",
    "    rank_diff = winner_rank - loser_rank\n",
    "    exp = (rank_diff * -1) / 400\n",
    "    odds = 1 / (1 + math.pow(10, exp))\n",
    "    # 根据rank级别修改K值\n",
    "    if winner_rank < 2100:\n",
    "        k = 32\n",
    "    elif winner_rank >= 2100 and winner_rank < 2400:\n",
    "        k = 24\n",
    "    else:\n",
    "        k = 16\n",
    "    # 更新 rank 数值\n",
    "    new_winner_rank = round(winner_rank + (k * (1 - odds)))\n",
    "    new_loser_rank = round(loser_rank + (k * (0 - odds)))\n",
    "    return new_winner_rank, new_loser_rank"
   ]
  },
  {
   "cell_type": "markdown",
   "id": "fe4cbe99-f309-4916-b332-7c5ea863f28f",
   "metadata": {},
   "source": [
    "### 形成最终训练数据"
   ]
  },
  {
   "cell_type": "code",
   "execution_count": 4,
   "id": "af3697b5-51f2-45fc-a583-9c855891a1fd",
   "metadata": {},
   "outputs": [
    {
     "name": "stdout",
     "output_type": "stream",
     "text": [
      "Building data set..\n",
      "X [[1600, 26.4, 51.0, 31.0, 48.0, 34.0, 2.7, -0.44, 2.25, 112.6, 110.0, 2.6, 101.6, 0.312, 0.342, 0.574, 0.532, 12.9, 24.5, 0.241, 0.512, 11.1, 78.6, 0.206, 838342.0, 20447.0, 41.7, 91.5, 0.455, 10.3, 30.0, 0.342, 31.4, 61.5, 0.511, 18.8, 24.5, 0.768, 10.0, 33.5, 43.5, 23.4, 7.7, 4.1, 12.7, 22.1, 112.5, 41.5, 88.2, 0.471, 10.8, 30.2, 0.359, 30.7, 58.0, 0.529, 21.2, 27.5, 0.771, 10.9, 36.9, 47.8, 26.9, 7.4, 5.3, 14.9, 21.3, 115.2, 1700, 25.7, 49.0, 33.0, 52.0, 30.0, 4.44, -0.54, 3.9, 112.2, 107.8, 4.4, 99.6, 0.215, 0.381, 0.567, 0.534, 11.5, 21.6, 0.173, 0.514, 13.4, 77.0, 0.198, 763584.0, 18624.0, 39.5, 88.1, 0.448, 11.5, 33.5, 0.344, 28.0, 54.6, 0.513, 17.4, 22.8, 0.764, 10.4, 35.5, 45.9, 23.7, 6.8, 3.9, 15.1, 19.5, 108.0, 42.1, 90.5, 0.465, 12.6, 34.5, 0.365, 29.5, 56.0, 0.527, 15.6, 19.5, 0.802, 9.8, 34.7, 44.5, 26.3, 8.6, 5.3, 12.8, 20.4, 112.4]]\n"
     ]
    }
   ],
   "source": [
    "print(\"Building data set..\")\n",
    "X = []\n",
    "y=[]\n",
    "skip = 0\n",
    "for index, row in result_data.iterrows():\n",
    "    Wteam = row['WTeam']\n",
    "    Lteam = row['LTeam']\n",
    "    #获取最初的elo或是每个队伍最初的elo值\n",
    "    team1_elo = get_elo(Wteam)\n",
    "    team2_elo = get_elo(Lteam)\n",
    "    # 给主场比赛的队伍加上100的elo值\n",
    "    if row['WLoc'] == 'H':\n",
    "        team1_elo += 100\n",
    "    else:\n",
    "        team2_elo += 100\n",
    "    # 把elo当为评价每个队伍的第一个特征值\n",
    "    team1_features = [team1_elo]\n",
    "    team2_features = [team2_elo]\n",
    "    # 添加我们从basketball reference.com获得的每个队伍的统计信息\n",
    "    for key, value in team_stats.loc[Wteam].iteritems():\n",
    "        team1_features.append(value)\n",
    "    for key, value in team_stats.loc[Lteam].iteritems():\n",
    "        team2_features.append(value)\n",
    "    # 将两支队伍的特征值随机的分配在每场比赛数据的左右两侧\n",
    "    # 并将对应的0/1赋给y值\n",
    "    if random.random() > 0.5:\n",
    "        X.append(team1_features + team2_features)\n",
    "        y.append(0)\n",
    "    else:\n",
    "        X.append(team2_features + team1_features)\n",
    "        y.append(1)\n",
    "    if skip == 0:\n",
    "        print('X',X)\n",
    "        skip = 1\n",
    "    # 根据这场比赛的数据更新队伍的elo值\n",
    "    new_winner_rank, new_loser_rank = calc_elo(Wteam, Lteam)\n",
    "    team_elos[Wteam] = new_winner_rank\n",
    "    team_elos[Lteam] = new_loser_rank\n",
    "X=np.nan_to_num(X);"
   ]
  },
  {
   "cell_type": "markdown",
   "id": "839d19f8-7b27-4457-a06c-8700ea68296f",
   "metadata": {},
   "source": [
    "## 模型训练和预测\n",
    "比赛结果预测是一个典型的二分类问题。选取逻辑回归进行训练。"
   ]
  },
  {
   "cell_type": "code",
   "execution_count": 5,
   "id": "f515ee74-4e79-4b9e-ad98-7f9bd144b447",
   "metadata": {},
   "outputs": [
    {
     "data": {
      "text/plain": [
       "LogisticRegression(max_iter=1000)"
      ]
     },
     "execution_count": 5,
     "metadata": {},
     "output_type": "execute_result"
    }
   ],
   "source": [
    "from sklearn import linear_model\n",
    "model = linear_model.LogisticRegression(max_iter=1000)\n",
    "model.fit(X, y)"
   ]
  },
  {
   "cell_type": "code",
   "execution_count": 6,
   "id": "c4f53193-e44e-4d55-b7b9-18867337a9b9",
   "metadata": {},
   "outputs": [
    {
     "data": {
      "image/png": "[encoded data removed]",
      "text/plain": [
       "<Figure size 432x288 with 1 Axes>"
      ]
     },
     "metadata": {
      "needs_background": "light"
     },
     "output_type": "display_data"
    }
   ],
   "source": [
    "#展示学习曲线\n",
    "import scikitplot as skplt\n",
    "skplt.estimators.plot_learning_curve(model, X, y)\n",
    "plt.show()"
   ]
  },
  {
   "cell_type": "code",
   "execution_count": 7,
   "id": "8c8104af-a7be-48ad-ac85-7368f3ce4bd4",
   "metadata": {},
   "outputs": [
    {
     "name": "stdout",
     "output_type": "stream",
     "text": [
      "0.6714954892435808\n"
     ]
    }
   ],
   "source": [
    "# 利用10折交叉验证计算训练正确率\n",
    "from sklearn.model_selection import cross_val_score\n",
    "print(cross_val_score(model, X, y, cv=10, scoring='accuracy', n_jobs=-1).mean())"
   ]
  },
  {
   "cell_type": "code",
   "execution_count": null,
   "id": "3cc2fd1b-ce2f-4739-859a-222b735b3c77",
   "metadata": {},
   "outputs": [],
   "source": [
    "# 利用训练好的model在19-20年的比赛中进行预测\n",
    "result = []\n",
    "sum=0\n",
    "count=0\n",
    "for index, row in schedule1617.iterrows():\n",
    "    team1 = row['Vteam']\n",
    "    team2 = row['Hteam']\n",
    "    pred = predict_winner(team1, team2, model)\n",
    "    prob = pred[0][0]\n",
    "    if prob > 0.5:\n",
    "        winner = team1\n",
    "        loser = team2\n",
    "        result.append([winner, loser, prob])\n",
    "        # if row['V-PTS']>row['H-PTS']:\n",
    "        #     count=count+1\n",
    "    else:\n",
    "        winner = team2\n",
    "        loser = team1\n",
    "        result.append([winner, loser, 1 - prob])\n",
    "        # if row['V-PTS']<row['H-PTS']:\n",
    "        #     count=count+1\n",
    "    # sum=sum+1"
   ]
  },
  {
   "cell_type": "code",
   "execution_count": null,
   "id": "a37e3b57-e76c-4b7f-a7c3-f09058248613",
   "metadata": {},
   "outputs": [],
   "source": [
    "#将预测结果写入文件中\n",
    "with open('19-20_Result.csv', 'w') as f:\n",
    "    writer = csv.writer(f)\n",
    "    writer.writerow(['win', 'lose', 'probability'])\n",
    "    writer.writerows(result)\n",
    "    print('done.')\n",
    "# print(count/sum)"
   ]
  }
 ],
 "metadata": {
  "kernelspec": {
   "display_name": "Python 3 (ipykernel)",
   "language": "python",
   "name": "python3"
  },
  "language_info": {
   "codemirror_mode": {
    "name": "ipython",
    "version": 3
   },
   "file_extension": ".py",
   "mimetype": "text/x-python",
   "name": "python",
   "nbconvert_exporter": "python",
   "pygments_lexer": "ipython3",
   "version": "3.9.12"
  }
 },
 "nbformat": 4,
 "nbformat_minor": 5
}
